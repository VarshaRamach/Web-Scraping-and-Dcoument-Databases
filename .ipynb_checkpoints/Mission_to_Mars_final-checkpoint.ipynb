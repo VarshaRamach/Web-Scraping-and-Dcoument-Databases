{
 "cells": [
  {
   "cell_type": "code",
   "execution_count": 3,
   "metadata": {},
   "outputs": [],
   "source": [
    "from splinter import Browser\n",
    "from bs4 import BeautifulSoup\n",
    "import requests\n",
    "import time\n",
    "import pandas as pd\n",
    "import numpy as np"
   ]
  },
  {
   "cell_type": "code",
   "execution_count": 4,
   "metadata": {},
   "outputs": [
    {
     "name": "stderr",
     "output_type": "stream",
     "text": [
      "which: no chromedriver in (/c/Users/Varsha/bin:/mingw64/bin:/usr/local/bin:/usr/bin:/usr/bin:/mingw64/bin:/usr/bin:/c/Users/Varsha/bin:/c/Program Files (x86)/Intel/iCLS Client:/c/Program Files/Intel/iCLS Client:/c/Windows/system32:/c/Windows:/c/Windows/System32/Wbem:/c/Windows/System32/WindowsPowerShell/v1.0:/c/Program Files/Intel/Intel(R) Management Engine Components/DAL:/c/Program Files (x86)/Intel/Intel(R) Management Engine Components/DAL:/c/Program Files/Intel/Intel(R) Management Engine Components/IPT:/c/Program Files (x86)/Intel/Intel(R) Management Engine Components/IPT:/c/Program Files/Intel/WiFi/bin:/c/Program Files/Common Files/Intel/WirelessCommon:/c/Program Files (x86)/Skype/Phone:/c/Windows/System32/OpenSSH:/cmd:/c/Program Files/Microsoft VS Code/bin:/c/Program Files/MongoDB/Server/4.0/bin:/c/Users/Varsha/Miniconda3:/c/Users/Varsha/Miniconda3/Library/mingw-w64/bin:/c/Users/Varsha/Miniconda3/Library/usr/bin:/c/Users/Varsha/Miniconda3/Library/bin:/c/Users/Varsha/Miniconda3/Scripts:/c/Users/Varsha/AppData/Local/Microsoft/WindowsApps:/c/Program Files/heroku/bin:/c/Users/Varsha/AppData/Local/GitHubDesktop/bin:/usr/bin/vendor_perl:/usr/bin/core_perl)\n"
     ]
    }
   ],
   "source": [
    "!which chromedriver"
   ]
  },
  {
   "cell_type": "code",
   "execution_count": 7,
   "metadata": {},
   "outputs": [],
   "source": [
    "executable_path = {'executable_path': 'chromedriver.exe'}\n",
    "browser = Browser('chrome', **executable_path, headless=False)"
   ]
  },
  {
   "cell_type": "code",
   "execution_count": 8,
   "metadata": {},
   "outputs": [],
   "source": [
    "news_url = 'http://mars.nasa.gov/news/?page=0&per_page=40&order=publish_date+desc%2Ccreated_at+desc&search=&category=19%2C165%2C184%2C204& blank_scope=Latest'\n",
    "browser.visit(news_url)"
   ]
  },
  {
   "cell_type": "code",
   "execution_count": 9,
   "metadata": {},
   "outputs": [
    {
     "name": "stdout",
     "output_type": "stream",
     "text": [
      "Title: Update on Opportunity Rover after Martian Dust Storm\n",
      "Teaser: One month since increasing their commanding frequency, engineers have yet to hear from NASA's Opportunity rover.\n",
      "--------------------\n",
      "Title: Mars Virtual Reality Software Wins NASA Award\n",
      "Teaser: A mixed-reality software that allows scientists and engineers to virtually walk on Mars has received NASA's 2018 Software of the Year Award.\n",
      "--------------------\n",
      "Title: Painting Cars for Mars\n",
      "Teaser: What does NASA do to get a rover ready for Mars? JPL's paint shop does a thousand different paint jobs a year. And while every piece of spacecraft that comes through the shop is important, one headed for the Red Planet adds a little extra oomph.\n",
      "--------------------\n",
      "Title: Curiosity Rover to Temporarily Switch 'Brains'\n",
      "Teaser: NASA engineers are switching over to Curiosity's spare computer to diagnose a technical issue.\n",
      "--------------------\n",
      "Title: Opportunity Emerges in a Dusty Picture\n",
      "Teaser: NASA still hasn't heard from the Opportunity rover, but at least the agency can see it again.\n",
      "--------------------\n",
      "Title: NASA Seeking Partner in Contest to Name Next Mars Rover\n",
      "Teaser: NASA has a class assignment for corporations, nonprofits and educational organizations involved in science and space exploration: partner with the agency to inspire future engineers and scientists by sponsoring a contest to name the next rover to venture to the Red Planet.\n",
      "--------------------\n",
      "Title: NASA’s MAVEN Selfie Marks Four Years in Orbit at Mars\n",
      "Teaser: NASA’s MAVEN spacecraft celebrates four years in Mars orbit with a selfie.\n",
      "--------------------\n",
      "Title: MarCO Makes Space for Small Explorers\n",
      "Teaser: A pair of NASA CubeSats flying to Mars are opening a new frontier for small spacecraft.\n",
      "--------------------\n",
      "Title: Curiosity Surveys a Mystery Under Dusty Skies\n",
      "Teaser: NASA's Curiosity rover surveyed its surroundings on Mars, producing a 360-degree panorama of its current location on Vera Rubin Ridge.\n",
      "--------------------\n",
      "Title: NASA's InSight Has a Thermometer for Mars\n",
      "Teaser: The mission's heat probe could reveal how the planet's towering volcanoes formed.\n",
      "--------------------\n",
      "Title: Digital Creators: Apply for NASA Mars Landing Event\n",
      "Teaser: Up to 30 multimedia participants will be selected for a special two-day event at JPL culminating in the InSight spacecraft's landing on Mars. Apply by Sept. 3.\n",
      "--------------------\n",
      "Title: NASA's InSight Passes Halfway to Mars, Instruments Check In\n",
      "Teaser: NASA's InSight spacecraft, en route to a Nov. 26 landing on Mars, passed the halfway mark on Aug. 6. All of its instruments have been tested and are working well.\n",
      "--------------------\n",
      "Title: Six Things About Opportunity's Recovery Efforts\n",
      "Teaser: The global dust storm on Mars could soon let in enough sunlight for the Opportunity rover to recharge.\n",
      "--------------------\n",
      "Title: Meet the People Behind NASA's InSight Mars Lander\n",
      "Teaser: A series of NASA videos highlight scientists and engineers leading the next mission to Mars.\n",
      "--------------------\n",
      "Title: Mars Terraforming Not Possible Using Present-Day Technology\n",
      "Teaser: Transforming the inhospitable Martian environment into a place astronauts could explore without life support is not possible without technology well beyond today’s capabilities.\n",
      "--------------------\n",
      "Title: Opportunity Hunkers Down During Dust Storm\n",
      "Teaser: It's the beginning of the end for the planet-encircling dust storm on Mars. But it could still be weeks, or even months, before skies are clear enough for NASA's Opportunity rover to recharge its batteries and phone home. \n",
      "--------------------\n",
      "Title: NASA Statement on Possible Subsurface Lake near Martian South Pole\n",
      "Teaser: A new paper suggests that liquid water may be sitting under a layer of ice at Mars' south pole.\n",
      "--------------------\n",
      "Title: JPL's 'Martians' Are Coming to Griffith Observatory\n",
      "Teaser: On July 30, when Mars and Earth are closer than they've been since 2003, JPL scientists and engineers will be at a free public event at Griffith Observatory in Los Angeles.\n",
      "--------------------\n",
      "Title: NASA's MAVEN Spacecraft Finds That 'Stolen' Electrons Enable Unusual Aurora on Mars\n",
      "Teaser: Auroras appear on Earth as ghostly displays of colorful light in the night sky, usually near the poles.\n",
      "--------------------\n",
      "Title: 'Storm Chasers' on Mars Searching for Dusty Secrets\n",
      "Teaser: Scientists with NASA's Mars orbiters have been waiting years for an event like the current Mars global dust storm.\n",
      "--------------------\n",
      "Title: NASA Mars Mission Adds Southern California Dates\n",
      "Teaser: Looking for summer fun? Southern California families have their choice of the beach, movies, museums -- and even NASA's next mission to Mars.\n",
      "--------------------\n",
      "Title: Curiosity Captures Photos of Thickening Dust\n",
      "Teaser: A storm of tiny dust particles has engulfed much of Mars over the last two weeks.\n",
      "--------------------\n",
      "Title: NASA Encounters the Perfect Storm for Science\n",
      "Teaser: One of the most intense Martian dust storms ever observed is being studied by a record number of NASA spacecraft.\n",
      "--------------------\n",
      "Title: Media Telecon About Mars Dust Storm, Opportunity\n",
      "Teaser: NASA will host a media telecon on Wednesday, June 13, about a massive Martian dust storm affecting the Opportunity rover, and how various missions can obtain unique science.\n",
      "--------------------\n",
      "Title: NASA Finds Ancient Organic Material, Mysterious Methane on Mars\n",
      "Teaser: NASA’s Curiosity rover has found evidence on Mars with implications for NASA’s search for life.\n",
      "--------------------\n",
      "Title: NASA to Host Live Discussion on New Mars Science Results\n",
      "Teaser: Questions are welcome during a live discussion at 11 a.m. PDT (2 p.m. EDT) Thursday, June 7, on new science results from NASA's Mars Curiosity rover.\n",
      "--------------------\n",
      "Title: Mars Curiosity's Labs Are Back in Action\n",
      "Teaser: NASA's Curiosity rover is analyzing drilled samples on Mars in one of its onboard labs for the first time in more than a year.\n",
      "--------------------\n",
      "Title: NASA CubeSats Steer Toward Mars\n",
      "Teaser: NASA has achieved a first for the class of tiny spacecraft known as CubeSats, which are opening new access to space.\n",
      "--------------------\n",
      "Title: Scientists Shrink Chemistry Lab to Seek Evidence of Life on Mars\n",
      "Teaser: An international team of scientists has created a tiny chemistry lab for a rover that will drill beneath the Martian surface looking for signs of past or present life.\n",
      "--------------------\n",
      "Title: InSight Steers Toward Mars\n",
      "Teaser: The spacecraft has completed its first trajectory correction maneuver.\n",
      "--------------------\n",
      "Title: Drilling Success: Curiosity is Collecting Mars Rocks\n",
      "Teaser: Engineers will now test delivering samples to instruments inside NASA's Curiosity Mars rover.\n",
      "--------------------\n",
      "Title: NASA's Curiosity Rover Aims to Get Its Rhythm Back\n",
      "Teaser: Rover engineers at JPL will try to restore percussive drilling on Mars this week, part of a larger series of tests that will last through summer.\n",
      "--------------------\n",
      "Title: A Pale Blue Dot, As Seen by a CubeSat\n",
      "Teaser: One of NASA's MarCO CubeSats has taken its first image.\n",
      "--------------------\n",
      "Title: Mars Helicopter to Fly on NASA’s Next Red Planet Rover Mission\n",
      "Teaser: NASA is adding a Mars helicopter to the agency’s next mission to the Red Planet, Mars 2020.\n",
      "--------------------\n",
      "Title: NASA's First Deep-Space CubeSats Say: 'Polo!'\n",
      "Teaser: MarCO is a pair of tiny spacecraft that launched with NASA's InSight lander today.\n",
      "--------------------\n",
      "Title: NASA, ULA Launch Mission to Study How Mars Was Made\n",
      "Teaser: NASA’s Mars InSight mission launched this morning on a 300-million-mile trip to Mars to study for the first time what lies deep beneath the surface of the Red Planet.\n",
      "--------------------\n",
      "Title: NASA’s First Mission to Study the Interior of Mars Awaits May 5 Launch\n",
      "Teaser: All systems are go for NASA’s next launch to the Red Planet. \n",
      "--------------------\n",
      "Title: Vice President Pence Visits JPL, Previews NASA’s Next Mars Mission Launch\n",
      "Teaser: A week before NASA's next Mars launch, Vice President Mike Pence toured the birthplace of the InSight Mars Lander and numerous other past, present and future space missions.\n",
      "--------------------\n",
      "Title: NASA Sets Sights on May 5 Launch of InSight to Mars\n",
      "Teaser: NASA’s next mission to Mars, InSight, is scheduled to launch Saturday, May 5, on a first-ever mission to study the heart of the Red Planet.\n",
      "--------------------\n",
      "Title: Results of Heat Shield Testing\n",
      "Teaser: A post-test inspection of the composite structure for a heat shield to be used on the Mars 2020 mission revealed that a fracture occurred during structural testing.\n",
      "--------------------\n"
     ]
    }
   ],
   "source": [
    "html = browser.html\n",
    "soup = BeautifulSoup(html, 'html.parser')\n",
    "\n",
    "news_title = soup.find_all('div', class_='content_title')\n",
    "news_p = soup.find_all('div', class_='article_teaser_body')\n",
    "\n",
    "for title, teaser in zip(news_title, news_p):\n",
    "    print('Title: ' + title.text)\n",
    "    print('Teaser: ' + teaser.text)\n",
    "    print('-'*20)"
   ]
  },
  {
   "cell_type": "code",
   "execution_count": 13,
   "metadata": {},
   "outputs": [],
   "source": [
    "jpl_img_url = 'https://www.jpl.nasa.gov/spaceimages/?search=&category=Mars'\n",
    "browser.visit(jpl_img_url)\n",
    "browser.find_by_css('a.button.fancybox').first.click()"
   ]
  },
  {
   "cell_type": "code",
   "execution_count": 14,
   "metadata": {},
   "outputs": [
    {
     "data": {
      "text/plain": [
       "'/spaceimages/images/mediumsize/PIA18087_ip.jpg'"
      ]
     },
     "execution_count": 14,
     "metadata": {},
     "output_type": "execute_result"
    }
   ],
   "source": [
    "html = browser.html\n",
    "soup = BeautifulSoup(html, 'html.parser')\n",
    "\n",
    "featured_image_url = soup.find('img', class_='fancybox-image')['src']\n",
    "featured_image_url"
   ]
  },
  {
   "cell_type": "code",
   "execution_count": 15,
   "metadata": {},
   "outputs": [],
   "source": [
    "twitter_url = 'https://twitter.com/marswxreport?lang=en'\n",
    "browser.visit(twitter_url)"
   ]
  },
  {
   "cell_type": "code",
   "execution_count": 16,
   "metadata": {},
   "outputs": [],
   "source": [
    "html = browser.html\n",
    "soup = BeautifulSoup(html, 'html.parser')\n",
    "mars_weather = soup.find_all('div', class_ = 'js-tweet-text-container')"
   ]
  },
  {
   "cell_type": "code",
   "execution_count": 18,
   "metadata": {},
   "outputs": [],
   "source": [
    "for tweet in mars_weather:\n",
    "    if \"Sol\" in tweet.text:\n",
    "        mars_weather = tweet.p.text\n",
    "        break"
   ]
  },
  {
   "cell_type": "code",
   "execution_count": 19,
   "metadata": {},
   "outputs": [
    {
     "data": {
      "text/plain": [
       "'Sol 2171 (2018-09-14), high -12C/10F, low -65C/-84F, pressure at 8.79 hPa, daylight 05:43-17:59'"
      ]
     },
     "execution_count": 19,
     "metadata": {},
     "output_type": "execute_result"
    }
   ],
   "source": [
    "mars_weather"
   ]
  },
  {
   "cell_type": "code",
   "execution_count": 20,
   "metadata": {},
   "outputs": [],
   "source": [
    "mars_facts_url = 'https://space-facts.com/mars/'\n",
    "mars_facts_table = pd.read_html(mars_facts_url)"
   ]
  },
  {
   "cell_type": "code",
   "execution_count": 25,
   "metadata": {},
   "outputs": [
    {
     "data": {
      "text/plain": [
       "[        Characteristics                           Data\n",
       " 0  Equatorial Diameter:                       6,792 km\n",
       " 1       Polar Diameter:                       6,752 km\n",
       " 2                 Mass:  6.42 x 10^23 kg (10.7% Earth)\n",
       " 3                Moons:            2 (Phobos & Deimos)\n",
       " 4       Orbit Distance:       227,943,824 km (1.52 AU)\n",
       " 5         Orbit Period:           687 days (1.9 years)\n",
       " 6  Surface Temperature:                  -153 to 20 °C\n",
       " 7         First Record:              2nd millennium BC\n",
       " 8          Recorded By:           Egyptian astronomers]"
      ]
     },
     "execution_count": 25,
     "metadata": {},
     "output_type": "execute_result"
    }
   ],
   "source": [
    "mars_facts_table"
   ]
  },
  {
   "cell_type": "code",
   "execution_count": 26,
   "metadata": {},
   "outputs": [],
   "source": [
    "mars_df = mars_facts_table[0]"
   ]
  },
  {
   "cell_type": "code",
   "execution_count": 27,
   "metadata": {},
   "outputs": [
    {
     "data": {
      "text/html": [
       "<div>\n",
       "<style scoped>\n",
       "    .dataframe tbody tr th:only-of-type {\n",
       "        vertical-align: middle;\n",
       "    }\n",
       "\n",
       "    .dataframe tbody tr th {\n",
       "        vertical-align: top;\n",
       "    }\n",
       "\n",
       "    .dataframe thead th {\n",
       "        text-align: right;\n",
       "    }\n",
       "</style>\n",
       "<table border=\"1\" class=\"dataframe\">\n",
       "  <thead>\n",
       "    <tr style=\"text-align: right;\">\n",
       "      <th></th>\n",
       "      <th>Characteristics</th>\n",
       "      <th>Data</th>\n",
       "    </tr>\n",
       "  </thead>\n",
       "  <tbody>\n",
       "    <tr>\n",
       "      <th>0</th>\n",
       "      <td>Equatorial Diameter:</td>\n",
       "      <td>6,792 km</td>\n",
       "    </tr>\n",
       "    <tr>\n",
       "      <th>1</th>\n",
       "      <td>Polar Diameter:</td>\n",
       "      <td>6,752 km</td>\n",
       "    </tr>\n",
       "    <tr>\n",
       "      <th>2</th>\n",
       "      <td>Mass:</td>\n",
       "      <td>6.42 x 10^23 kg (10.7% Earth)</td>\n",
       "    </tr>\n",
       "    <tr>\n",
       "      <th>3</th>\n",
       "      <td>Moons:</td>\n",
       "      <td>2 (Phobos &amp; Deimos)</td>\n",
       "    </tr>\n",
       "    <tr>\n",
       "      <th>4</th>\n",
       "      <td>Orbit Distance:</td>\n",
       "      <td>227,943,824 km (1.52 AU)</td>\n",
       "    </tr>\n",
       "    <tr>\n",
       "      <th>5</th>\n",
       "      <td>Orbit Period:</td>\n",
       "      <td>687 days (1.9 years)</td>\n",
       "    </tr>\n",
       "    <tr>\n",
       "      <th>6</th>\n",
       "      <td>Surface Temperature:</td>\n",
       "      <td>-153 to 20 °C</td>\n",
       "    </tr>\n",
       "    <tr>\n",
       "      <th>7</th>\n",
       "      <td>First Record:</td>\n",
       "      <td>2nd millennium BC</td>\n",
       "    </tr>\n",
       "    <tr>\n",
       "      <th>8</th>\n",
       "      <td>Recorded By:</td>\n",
       "      <td>Egyptian astronomers</td>\n",
       "    </tr>\n",
       "  </tbody>\n",
       "</table>\n",
       "</div>"
      ],
      "text/plain": [
       "        Characteristics                           Data\n",
       "0  Equatorial Diameter:                       6,792 km\n",
       "1       Polar Diameter:                       6,752 km\n",
       "2                 Mass:  6.42 x 10^23 kg (10.7% Earth)\n",
       "3                Moons:            2 (Phobos & Deimos)\n",
       "4       Orbit Distance:       227,943,824 km (1.52 AU)\n",
       "5         Orbit Period:           687 days (1.9 years)\n",
       "6  Surface Temperature:                  -153 to 20 °C\n",
       "7         First Record:              2nd millennium BC\n",
       "8          Recorded By:           Egyptian astronomers"
      ]
     },
     "execution_count": 27,
     "metadata": {},
     "output_type": "execute_result"
    }
   ],
   "source": [
    "mars_df.columns = ['Characteristics', 'Data']\n",
    "mars_df"
   ]
  },
  {
   "cell_type": "code",
   "execution_count": 29,
   "metadata": {},
   "outputs": [
    {
     "data": {
      "text/plain": [
       "'<table border=\"1\" class=\"dataframe\">\\n  <thead>\\n    <tr style=\"text-align: right;\">\\n      <th></th>\\n      <th>Characteristics</th>\\n      <th>Data</th>\\n    </tr>\\n  </thead>\\n  <tbody>\\n    <tr>\\n      <th>0</th>\\n      <td>Equatorial Diameter:</td>\\n      <td>6,792 km</td>\\n    </tr>\\n    <tr>\\n      <th>1</th>\\n      <td>Polar Diameter:</td>\\n      <td>6,752 km</td>\\n    </tr>\\n    <tr>\\n      <th>2</th>\\n      <td>Mass:</td>\\n      <td>6.42 x 10^23 kg (10.7% Earth)</td>\\n    </tr>\\n    <tr>\\n      <th>3</th>\\n      <td>Moons:</td>\\n      <td>2 (Phobos &amp; Deimos)</td>\\n    </tr>\\n    <tr>\\n      <th>4</th>\\n      <td>Orbit Distance:</td>\\n      <td>227,943,824 km (1.52 AU)</td>\\n    </tr>\\n    <tr>\\n      <th>5</th>\\n      <td>Orbit Period:</td>\\n      <td>687 days (1.9 years)</td>\\n    </tr>\\n    <tr>\\n      <th>6</th>\\n      <td>Surface Temperature:</td>\\n      <td>-153 to 20 °C</td>\\n    </tr>\\n    <tr>\\n      <th>7</th>\\n      <td>First Record:</td>\\n      <td>2nd millennium BC</td>\\n    </tr>\\n    <tr>\\n      <th>8</th>\\n      <td>Recorded By:</td>\\n      <td>Egyptian astronomers</td>\\n    </tr>\\n  </tbody>\\n</table>'"
      ]
     },
     "execution_count": 29,
     "metadata": {},
     "output_type": "execute_result"
    }
   ],
   "source": [
    "mars_df.to_html()"
   ]
  },
  {
   "cell_type": "code",
   "execution_count": 37,
   "metadata": {},
   "outputs": [],
   "source": [
    "mars_hemis_url = 'https://astrogeology.usgs.gov/search/results?q=hemisphere+enhanced&k1=target&v1=Mars'\n",
    "mars_hemis_base_url = 'https://astrogeology.usgs.gov'\n",
    "browser.visit(mars_hemis_url)"
   ]
  },
  {
   "cell_type": "code",
   "execution_count": 38,
   "metadata": {},
   "outputs": [
    {
     "name": "stdout",
     "output_type": "stream",
     "text": [
      "[{'title': <h3>Cerberus Hemisphere Enhanced</h3>, 'img_url': 'http://astropedia.astrogeology.usgs.gov/download/Mars/Viking/cerberus_enhanced.tif'}, {'title': <h3>Schiaparelli Hemisphere Enhanced</h3>, 'img_url': 'http://astropedia.astrogeology.usgs.gov/download/Mars/Viking/schiaparelli_enhanced.tif'}, {'title': <h3>Syrtis Major Hemisphere Enhanced</h3>, 'img_url': 'http://astropedia.astrogeology.usgs.gov/download/Mars/Viking/syrtis_major_enhanced.tif'}, {'title': <h3>Valles Marineris Hemisphere Enhanced</h3>, 'img_url': 'http://astropedia.astrogeology.usgs.gov/download/Mars/Viking/valles_marineris_enhanced.tif'}]\n"
     ]
    }
   ],
   "source": [
    "html = browser.html\n",
    "soup = BeautifulSoup(html, 'html.parser')\n",
    "\n",
    "titles = soup.find_all('h3')\n",
    "\n",
    "mars_hemis_imgs = soup.find_all('div', class_='description')\n",
    "html = browser.html\n",
    "soup = BeautifulSoup(html, 'html.parser')\n",
    "\n",
    "titles = soup.find_all('h3')\n",
    "\n",
    "mars_hemis_imgs = soup.find_all('div', class_='description')\n",
    "\n",
    "mars_hemis_list = []\n",
    "for x in range(len(mars_hemis_imgs)):\n",
    "    mars_hemis_url = mars_hemis_imgs[x].find('a').get('href')\n",
    "    mars_hemis_list.append(mars_hemis_base_url + mars_hemis_url)\n",
    "\n",
    "image_urls = []\n",
    "for hemi_url in mars_hemis_list:\n",
    "    browser.visit(hemi_url)\n",
    "    \n",
    "    html = browser.html\n",
    "    soup = BeautifulSoup(html, 'html.parser') \n",
    "    for link in soup.find_all('div', class_='downloads'):\n",
    "        image_urls.append(link.find_all('a')[1].get('href'))\n",
    "\n",
    "hemisphere_image_urls = []\n",
    "for title, img_url in zip(titles, image_urls):\n",
    "    hemisphere_image_urls.append({'title': title,\n",
    "                                  'img_url': img_url})\n",
    "\n",
    "print(hemisphere_image_urls)"
   ]
  },
  {
   "cell_type": "code",
   "execution_count": null,
   "metadata": {},
   "outputs": [],
   "source": []
  }
 ],
 "metadata": {
  "kernelspec": {
   "display_name": "Python 3",
   "language": "python",
   "name": "python3"
  },
  "language_info": {
   "codemirror_mode": {
    "name": "ipython",
    "version": 3
   },
   "file_extension": ".py",
   "mimetype": "text/x-python",
   "name": "python",
   "nbconvert_exporter": "python",
   "pygments_lexer": "ipython3",
   "version": "3.6.5"
  }
 },
 "nbformat": 4,
 "nbformat_minor": 2
}
