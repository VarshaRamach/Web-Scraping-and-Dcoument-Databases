{
 "cells": [
  {
   "cell_type": "code",
   "execution_count": 73,
   "metadata": {},
   "outputs": [],
   "source": [
    "from splinter import Browser\n",
    "from bs4 import BeautifulSoup\n",
    "import requests\n",
    "import time\n",
    "import pandas as pd\n",
    "import numpy as np"
   ]
  },
  {
   "cell_type": "code",
   "execution_count": 74,
   "metadata": {},
   "outputs": [
    {
     "name": "stderr",
     "output_type": "stream",
     "text": [
      "which: no chromedriver in (/c/Users/Varsha/bin:/mingw64/bin:/usr/local/bin:/usr/bin:/usr/bin:/mingw64/bin:/usr/bin:/c/Users/Varsha/bin:/c/Program Files (x86)/Intel/iCLS Client:/c/Program Files/Intel/iCLS Client:/c/Windows/system32:/c/Windows:/c/Windows/System32/Wbem:/c/Windows/System32/WindowsPowerShell/v1.0:/c/Program Files/Intel/Intel(R) Management Engine Components/DAL:/c/Program Files (x86)/Intel/Intel(R) Management Engine Components/DAL:/c/Program Files/Intel/Intel(R) Management Engine Components/IPT:/c/Program Files (x86)/Intel/Intel(R) Management Engine Components/IPT:/c/Program Files/Intel/WiFi/bin:/c/Program Files/Common Files/Intel/WirelessCommon:/c/Program Files (x86)/Skype/Phone:/c/Windows/System32/OpenSSH:/cmd:/c/Program Files/Microsoft VS Code/bin:/c/Program Files/MongoDB/Server/4.0/bin:/c/Users/Varsha/Miniconda3:/c/Users/Varsha/Miniconda3/Library/mingw-w64/bin:/c/Users/Varsha/Miniconda3/Library/usr/bin:/c/Users/Varsha/Miniconda3/Library/bin:/c/Users/Varsha/Miniconda3/Scripts:/c/Users/Varsha/AppData/Local/Microsoft/WindowsApps:/c/Program Files/heroku/bin:/c/Users/Varsha/AppData/Local/GitHubDesktop/bin:/usr/bin/vendor_perl:/usr/bin/core_perl)\n"
     ]
    }
   ],
   "source": [
    "!which chromedriver"
   ]
  },
  {
   "cell_type": "code",
   "execution_count": 75,
   "metadata": {},
   "outputs": [],
   "source": [
    "executable_path = {'executable_path': 'chromedriver.exe'}\n",
    "browser = Browser('chrome', **executable_path, headless=False)"
   ]
  },
  {
   "cell_type": "code",
   "execution_count": 76,
   "metadata": {},
   "outputs": [],
   "source": [
    "url = 'http://mars.nasa.gov/news/?page=0&per_page=40&order=publish_date+desc%2Ccreated_at+desc&search=&category=19%2C165%2C184%2C204& blank_scope=Latest'\n",
    "browser.visit(url)"
   ]
  },
  {
   "cell_type": "code",
   "execution_count": 77,
   "metadata": {},
   "outputs": [],
   "source": [
    "# html to view the said url\n",
    "html = browser.html"
   ]
  },
  {
   "cell_type": "code",
   "execution_count": 78,
   "metadata": {},
   "outputs": [],
   "source": [
    "# Parse HTML with Beautiful Soup\n",
    "soup = BeautifulSoup(html, 'html.parser')\n",
    "# Retrieve all elements that contain book information. Find_all creates a list of article elements\n",
    "articles = soup.find_all('div', class_=\"list_text\")"
   ]
  },
  {
   "cell_type": "code",
   "execution_count": 79,
   "metadata": {},
   "outputs": [
    {
     "data": {
      "text/plain": [
       "[<div class=\"list_text\"><div class=\"list_date\">October 11, 2018</div><div class=\"content_title\"><a href=\"/news/8364/update-on-opportunity-rover-after-martian-dust-storm/\" target=\"_self\">Update on Opportunity Rover after Martian Dust Storm</a></div><div class=\"article_teaser_body\">One month since increasing their commanding frequency, engineers have yet to hear from NASA's Opportunity rover.</div></div>,\n",
       " <div class=\"list_text\"><div class=\"list_date\">October 10, 2018</div><div class=\"content_title\"><a href=\"/news/8374/mars-virtual-reality-software-wins-nasa-award/\" target=\"_self\">Mars Virtual Reality Software Wins NASA Award</a></div><div class=\"article_teaser_body\">A mixed-reality software that allows scientists and engineers to virtually walk on Mars has received NASA's 2018 Software of the Year Award.</div></div>,\n",
       " <div class=\"list_text\"><div class=\"list_date\">October  9, 2018</div><div class=\"content_title\"><a href=\"/news/8373/painting-cars-for-mars/\" target=\"_self\">Painting Cars for Mars</a></div><div class=\"article_teaser_body\">What does NASA do to get a rover ready for Mars? JPL's paint shop does a thousand different paint jobs a year. And while every piece of spacecraft that comes through the shop is important, one headed for the Red Planet adds a little extra oomph.</div></div>,\n",
       " <div class=\"list_text\"><div class=\"list_date\">October  3, 2018</div><div class=\"content_title\"><a href=\"/news/8371/curiosity-rover-to-temporarily-switch-brains/\" target=\"_self\">Curiosity Rover to Temporarily Switch 'Brains'</a></div><div class=\"article_teaser_body\">NASA engineers are switching over to Curiosity's spare computer to diagnose a technical issue.</div></div>,\n",
       " <div class=\"list_text\"><div class=\"list_date\">September 25, 2018</div><div class=\"content_title\"><a href=\"/news/8370/opportunity-emerges-in-a-dusty-picture/\" target=\"_self\">Opportunity Emerges in a Dusty Picture</a></div><div class=\"article_teaser_body\">NASA still hasn't heard from the Opportunity rover, but at least the agency can see it again.</div></div>,\n",
       " <div class=\"list_text\"><div class=\"list_date\">September 21, 2018</div><div class=\"content_title\"><a href=\"/news/8369/nasa-seeking-partner-in-contest-to-name-next-mars-rover/\" target=\"_self\">NASA Seeking Partner in Contest to Name Next Mars Rover</a></div><div class=\"article_teaser_body\">NASA has a class assignment for corporations, nonprofits and educational organizations involved in science and space exploration: partner with the agency to inspire future engineers and scientists by sponsoring a contest to name the next rover to venture to the Red Planet.</div></div>,\n",
       " <div class=\"list_text\"><div class=\"list_date\">September 21, 2018</div><div class=\"content_title\"><a href=\"/news/8368/nasas-maven-selfie-marks-four-years-in-orbit-at-mars/\" target=\"_self\">NASA’s MAVEN Selfie Marks Four Years in Orbit at Mars</a></div><div class=\"article_teaser_body\">NASA’s MAVEN spacecraft celebrates four years in Mars orbit with a selfie.</div></div>,\n",
       " <div class=\"list_text\"><div class=\"list_date\">September 13, 2018</div><div class=\"content_title\"><a href=\"/news/8367/marco-makes-space-for-small-explorers/\" target=\"_self\">MarCO Makes Space for Small Explorers</a></div><div class=\"article_teaser_body\">A pair of NASA CubeSats flying to Mars are opening a new frontier for small spacecraft.</div></div>,\n",
       " <div class=\"list_text\"><div class=\"list_date\">September  6, 2018</div><div class=\"content_title\"><a href=\"/news/8365/curiosity-surveys-a-mystery-under-dusty-skies/\" target=\"_self\">Curiosity Surveys a Mystery Under Dusty Skies</a></div><div class=\"article_teaser_body\">NASA's Curiosity rover surveyed its surroundings on Mars, producing a 360-degree panorama of its current location on Vera Rubin Ridge.</div></div>,\n",
       " <div class=\"list_text\"><div class=\"list_date\">August 28, 2018</div><div class=\"content_title\"><a href=\"/news/8363/nasas-insight-has-a-thermometer-for-mars/\" target=\"_self\">NASA's InSight Has a Thermometer for Mars</a></div><div class=\"article_teaser_body\">The mission's heat probe could reveal how the planet's towering volcanoes formed.</div></div>,\n",
       " <div class=\"list_text\"><div class=\"list_date\">August 24, 2018</div><div class=\"content_title\"><a href=\"/news/8362/digital-creators-apply-for-nasa-mars-landing-event/\" target=\"_self\">Digital Creators: Apply for NASA Mars Landing Event</a></div><div class=\"article_teaser_body\">Up to 30 multimedia participants will be selected for a special two-day event at JPL culminating in the InSight spacecraft's landing on Mars. Apply by Sept. 3.</div></div>,\n",
       " <div class=\"list_text\"><div class=\"list_date\">August 20, 2018</div><div class=\"content_title\"><a href=\"/news/8361/nasas-insight-passes-halfway-to-mars-instruments-check-in/\" target=\"_self\">NASA's InSight Passes Halfway to Mars, Instruments Check In</a></div><div class=\"article_teaser_body\">NASA's InSight spacecraft, en route to a Nov. 26 landing on Mars, passed the halfway mark on Aug. 6. All of its instruments have been tested and are working well.</div></div>,\n",
       " <div class=\"list_text\"><div class=\"list_date\">August 16, 2018</div><div class=\"content_title\"><a href=\"/news/8360/six-things-about-opportunitys-recovery-efforts/\" target=\"_self\">Six Things About Opportunity's Recovery Efforts</a></div><div class=\"article_teaser_body\">The global dust storm on Mars could soon let in enough sunlight for the Opportunity rover to recharge.</div></div>,\n",
       " <div class=\"list_text\"><div class=\"list_date\">August  2, 2018</div><div class=\"content_title\"><a href=\"/news/8359/meet-the-people-behind-nasas-insight-mars-lander/\" target=\"_self\">Meet the People Behind NASA's InSight Mars Lander</a></div><div class=\"article_teaser_body\">A series of NASA videos highlight scientists and engineers leading the next mission to Mars.</div></div>,\n",
       " <div class=\"list_text\"><div class=\"list_date\">July 30, 2018</div><div class=\"content_title\"><a href=\"/news/8358/mars-terraforming-not-possible-using-present-day-technology/\" target=\"_self\">Mars Terraforming Not Possible Using Present-Day Technology</a></div><div class=\"article_teaser_body\">Transforming the inhospitable Martian environment into a place astronauts could explore without life support is not possible without technology well beyond today’s capabilities.</div></div>,\n",
       " <div class=\"list_text\"><div class=\"list_date\">July 26, 2018</div><div class=\"content_title\"><a href=\"/news/8348/opportunity-hunkers-down-during-dust-storm/\" target=\"_self\">Opportunity Hunkers Down During Dust Storm</a></div><div class=\"article_teaser_body\">It's the beginning of the end for the planet-encircling dust storm on Mars. But it could still be weeks, or even months, before skies are clear enough for NASA's Opportunity rover to recharge its batteries and phone home. </div></div>,\n",
       " <div class=\"list_text\"><div class=\"list_date\">July 25, 2018</div><div class=\"content_title\"><a href=\"/news/8357/nasa-statement-on-possible-subsurface-lake-near-martian-south-pole/\" target=\"_self\">NASA Statement on Possible Subsurface Lake near Martian South Pole</a></div><div class=\"article_teaser_body\">A new paper suggests that liquid water may be sitting under a layer of ice at Mars' south pole.</div></div>,\n",
       " <div class=\"list_text\"><div class=\"list_date\">July 25, 2018</div><div class=\"content_title\"><a href=\"/news/8356/jpls-martians-are-coming-to-griffith-observatory/\" target=\"_self\">JPL's 'Martians' Are Coming to Griffith Observatory</a></div><div class=\"article_teaser_body\">On July 30, when Mars and Earth are closer than they've been since 2003, JPL scientists and engineers will be at a free public event at Griffith Observatory in Los Angeles.</div></div>,\n",
       " <div class=\"list_text\"><div class=\"list_date\">July 23, 2018</div><div class=\"content_title\"><a href=\"/news/8355/nasas-maven-spacecraft-finds-that-stolen-electrons-enable-unusual-aurora-on-mars/\" target=\"_self\">NASA's MAVEN Spacecraft Finds That 'Stolen' Electrons Enable Unusual Aurora on Mars</a></div><div class=\"article_teaser_body\">Auroras appear on Earth as ghostly displays of colorful light in the night sky, usually near the poles.</div></div>,\n",
       " <div class=\"list_text\"><div class=\"list_date\">July 19, 2018</div><div class=\"content_title\"><a href=\"/news/8354/storm-chasers-on-mars-searching-for-dusty-secrets/\" target=\"_self\">'Storm Chasers' on Mars Searching for Dusty Secrets</a></div><div class=\"article_teaser_body\">Scientists with NASA's Mars orbiters have been waiting years for an event like the current Mars global dust storm.</div></div>,\n",
       " <div class=\"list_text\"><div class=\"list_date\">June 26, 2018</div><div class=\"content_title\"><a href=\"/news/8353/nasa-mars-mission-adds-southern-california-dates/\" target=\"_self\">NASA Mars Mission Adds Southern California Dates</a></div><div class=\"article_teaser_body\">Looking for summer fun? Southern California families have their choice of the beach, movies, museums -- and even NASA's next mission to Mars.</div></div>,\n",
       " <div class=\"list_text\"><div class=\"list_date\">June 20, 2018</div><div class=\"content_title\"><a href=\"/news/8351/curiosity-captures-photos-of-thickening-dust/\" target=\"_self\">Curiosity Captures Photos of Thickening Dust</a></div><div class=\"article_teaser_body\">A storm of tiny dust particles has engulfed much of Mars over the last two weeks.</div></div>,\n",
       " <div class=\"list_text\"><div class=\"list_date\">June 13, 2018</div><div class=\"content_title\"><a href=\"/news/8350/nasa-encounters-the-perfect-storm-for-science/\" target=\"_self\">NASA Encounters the Perfect Storm for Science</a></div><div class=\"article_teaser_body\">One of the most intense Martian dust storms ever observed is being studied by a record number of NASA spacecraft.</div></div>,\n",
       " <div class=\"list_text\"><div class=\"list_date\">June 12, 2018</div><div class=\"content_title\"><a href=\"/news/8349/media-telecon-about-mars-dust-storm-opportunity/\" target=\"_self\">Media Telecon About Mars Dust Storm, Opportunity</a></div><div class=\"article_teaser_body\">NASA will host a media telecon on Wednesday, June 13, about a massive Martian dust storm affecting the Opportunity rover, and how various missions can obtain unique science.</div></div>,\n",
       " <div class=\"list_text\"><div class=\"list_date\">June  7, 2018</div><div class=\"content_title\"><a href=\"/news/8347/nasa-finds-ancient-organic-material-mysterious-methane-on-mars/\" target=\"_self\">NASA Finds Ancient Organic Material, Mysterious Methane on Mars</a></div><div class=\"article_teaser_body\">NASA’s Curiosity rover has found evidence on Mars with implications for NASA’s search for life.</div></div>,\n",
       " <div class=\"list_text\"><div class=\"list_date\">June  6, 2018</div><div class=\"content_title\"><a href=\"/news/8346/nasa-to-host-live-discussion-on-new-mars-science-results/\" target=\"_self\">NASA to Host Live Discussion on New Mars Science Results</a></div><div class=\"article_teaser_body\">Questions are welcome during a live discussion at 11 a.m. PDT (2 p.m. EDT) Thursday, June 7, on new science results from NASA's Mars Curiosity rover.</div></div>,\n",
       " <div class=\"list_text\"><div class=\"list_date\">June  4, 2018</div><div class=\"content_title\"><a href=\"/news/8345/mars-curiositys-labs-are-back-in-action/\" target=\"_self\">Mars Curiosity's Labs Are Back in Action</a></div><div class=\"article_teaser_body\">NASA's Curiosity rover is analyzing drilled samples on Mars in one of its onboard labs for the first time in more than a year.</div></div>,\n",
       " <div class=\"list_text\"><div class=\"list_date\">June  1, 2018</div><div class=\"content_title\"><a href=\"/news/8344/nasa-cubesats-steer-toward-mars/\" target=\"_self\">NASA CubeSats Steer Toward Mars</a></div><div class=\"article_teaser_body\">NASA has achieved a first for the class of tiny spacecraft known as CubeSats, which are opening new access to space.</div></div>,\n",
       " <div class=\"list_text\"><div class=\"list_date\">June  1, 2018</div><div class=\"content_title\"><a href=\"/news/8343/scientists-shrink-chemistry-lab-to-seek-evidence-of-life-on-mars/\" target=\"_self\">Scientists Shrink Chemistry Lab to Seek Evidence of Life on Mars</a></div><div class=\"article_teaser_body\">An international team of scientists has created a tiny chemistry lab for a rover that will drill beneath the Martian surface looking for signs of past or present life.</div></div>,\n",
       " <div class=\"list_text\"><div class=\"list_date\">May 23, 2018</div><div class=\"content_title\"><a href=\"/news/8342/insight-steers-toward-mars/\" target=\"_self\">InSight Steers Toward Mars</a></div><div class=\"article_teaser_body\">The spacecraft has completed its first trajectory correction maneuver.</div></div>,\n",
       " <div class=\"list_text\"><div class=\"list_date\">May 23, 2018</div><div class=\"content_title\"><a href=\"/news/8341/drilling-success-curiosity-is-collecting-mars-rocks/\" target=\"_self\">Drilling Success: Curiosity is Collecting Mars Rocks</a></div><div class=\"article_teaser_body\">Engineers will now test delivering samples to instruments inside NASA's Curiosity Mars rover.</div></div>,\n",
       " <div class=\"list_text\"><div class=\"list_date\">May 17, 2018</div><div class=\"content_title\"><a href=\"/news/8339/nasas-curiosity-rover-aims-to-get-its-rhythm-back/\" target=\"_self\">NASA's Curiosity Rover Aims to Get Its Rhythm Back</a></div><div class=\"article_teaser_body\">Rover engineers at JPL will try to restore percussive drilling on Mars this week, part of a larger series of tests that will last through summer.</div></div>,\n",
       " <div class=\"list_text\"><div class=\"list_date\">May 15, 2018</div><div class=\"content_title\"><a href=\"/news/8338/a-pale-blue-dot-as-seen-by-a-cubesat/\" target=\"_self\">A Pale Blue Dot, As Seen by a CubeSat</a></div><div class=\"article_teaser_body\">One of NASA's MarCO CubeSats has taken its first image.</div></div>,\n",
       " <div class=\"list_text\"><div class=\"list_date\">May 11, 2018</div><div class=\"content_title\"><a href=\"/news/8335/mars-helicopter-to-fly-on-nasas-next-red-planet-rover-mission/\" target=\"_self\">Mars Helicopter to Fly on NASA’s Next Red Planet Rover Mission</a></div><div class=\"article_teaser_body\">NASA is adding a Mars helicopter to the agency’s next mission to the Red Planet, Mars 2020.</div></div>,\n",
       " <div class=\"list_text\"><div class=\"list_date\">May  5, 2018</div><div class=\"content_title\"><a href=\"/news/8334/nasas-first-deep-space-cubesats-say-polo/\" target=\"_self\">NASA's First Deep-Space CubeSats Say: 'Polo!'</a></div><div class=\"article_teaser_body\">MarCO is a pair of tiny spacecraft that launched with NASA's InSight lander today.</div></div>,\n",
       " <div class=\"list_text\"><div class=\"list_date\">May  5, 2018</div><div class=\"content_title\"><a href=\"/news/8333/nasa-ula-launch-mission-to-study-how-mars-was-made/\" target=\"_self\">NASA, ULA Launch Mission to Study How Mars Was Made</a></div><div class=\"article_teaser_body\">NASA’s Mars InSight mission launched this morning on a 300-million-mile trip to Mars to study for the first time what lies deep beneath the surface of the Red Planet.</div></div>,\n",
       " <div class=\"list_text\"><div class=\"list_date\">May  3, 2018</div><div class=\"content_title\"><a href=\"/news/8332/nasas-first-mission-to-study-the-interior-of-mars-awaits-may-5-launch/\" target=\"_self\">NASA’s First Mission to Study the Interior of Mars Awaits May 5 Launch</a></div><div class=\"article_teaser_body\">All systems are go for NASA’s next launch to the Red Planet. </div></div>,\n",
       " <div class=\"list_text\"><div class=\"list_date\">April 30, 2018</div><div class=\"content_title\"><a href=\"/news/8331/vice-president-pence-visits-jpl-previews-nasas-next-mars-mission-launch/\" target=\"_self\">Vice President Pence Visits JPL, Previews NASA’s Next Mars Mission Launch</a></div><div class=\"article_teaser_body\">A week before NASA's next Mars launch, Vice President Mike Pence toured the birthplace of the InSight Mars Lander and numerous other past, present and future space missions.</div></div>,\n",
       " <div class=\"list_text\"><div class=\"list_date\">April 27, 2018</div><div class=\"content_title\"><a href=\"/news/8330/nasa-sets-sights-on-may-5-launch-of-insight-to-mars/\" target=\"_self\">NASA Sets Sights on May 5 Launch of InSight to Mars</a></div><div class=\"article_teaser_body\">NASA’s next mission to Mars, InSight, is scheduled to launch Saturday, May 5, on a first-ever mission to study the heart of the Red Planet.</div></div>,\n",
       " <div class=\"list_text\"><div class=\"list_date\">April 26, 2018</div><div class=\"content_title\"><a href=\"/news/8329/results-of-heat-shield-testing/\" target=\"_self\">Results of Heat Shield Testing</a></div><div class=\"article_teaser_body\">A post-test inspection of the composite structure for a heat shield to be used on the Mars 2020 mission revealed that a fracture occurred during structural testing.</div></div>]"
      ]
     },
     "execution_count": 79,
     "metadata": {},
     "output_type": "execute_result"
    }
   ],
   "source": [
    "articles\n"
   ]
  },
  {
   "cell_type": "code",
   "execution_count": 80,
   "metadata": {},
   "outputs": [
    {
     "data": {
      "text/plain": [
       "<div class=\"list_text\"><div class=\"list_date\">October 11, 2018</div><div class=\"content_title\"><a href=\"/news/8364/update-on-opportunity-rover-after-martian-dust-storm/\" target=\"_self\">Update on Opportunity Rover after Martian Dust Storm</a></div><div class=\"article_teaser_body\">One month since increasing their commanding frequency, engineers have yet to hear from NASA's Opportunity rover.</div></div>"
      ]
     },
     "execution_count": 80,
     "metadata": {},
     "output_type": "execute_result"
    }
   ],
   "source": [
    "articles = soup.find_all('div', class_='list_text')\n",
    "articles[0]"
   ]
  },
  {
   "cell_type": "code",
   "execution_count": 81,
   "metadata": {},
   "outputs": [
    {
     "data": {
      "text/plain": [
       "<a href=\"/news/8364/update-on-opportunity-rover-after-martian-dust-storm/\" target=\"_self\">Update on Opportunity Rover after Martian Dust Storm</a>"
      ]
     },
     "execution_count": 81,
     "metadata": {},
     "output_type": "execute_result"
    }
   ],
   "source": [
    "news_title = articles[0].find(\"a\")\n",
    "news_title"
   ]
  },
  {
   "cell_type": "code",
   "execution_count": 82,
   "metadata": {},
   "outputs": [
    {
     "data": {
      "text/plain": [
       "'/news/8364/update-on-opportunity-rover-after-martian-dust-storm/'"
      ]
     },
     "execution_count": 82,
     "metadata": {},
     "output_type": "execute_result"
    }
   ],
   "source": [
    "articles[0].find(\"a\")[\"href\"]"
   ]
  },
  {
   "cell_type": "code",
   "execution_count": 83,
   "metadata": {},
   "outputs": [
    {
     "name": "stdout",
     "output_type": "stream",
     "text": [
      "/news/8364/update-on-opportunity-rover-after-martian-dust-storm/\n",
      "/news/8374/mars-virtual-reality-software-wins-nasa-award/\n",
      "/news/8373/painting-cars-for-mars/\n",
      "/news/8371/curiosity-rover-to-temporarily-switch-brains/\n",
      "/news/8370/opportunity-emerges-in-a-dusty-picture/\n",
      "/news/8369/nasa-seeking-partner-in-contest-to-name-next-mars-rover/\n",
      "/news/8368/nasas-maven-selfie-marks-four-years-in-orbit-at-mars/\n",
      "/news/8367/marco-makes-space-for-small-explorers/\n",
      "/news/8365/curiosity-surveys-a-mystery-under-dusty-skies/\n",
      "/news/8363/nasas-insight-has-a-thermometer-for-mars/\n",
      "/news/8362/digital-creators-apply-for-nasa-mars-landing-event/\n",
      "/news/8361/nasas-insight-passes-halfway-to-mars-instruments-check-in/\n",
      "/news/8360/six-things-about-opportunitys-recovery-efforts/\n",
      "/news/8359/meet-the-people-behind-nasas-insight-mars-lander/\n",
      "/news/8358/mars-terraforming-not-possible-using-present-day-technology/\n",
      "/news/8348/opportunity-hunkers-down-during-dust-storm/\n",
      "/news/8357/nasa-statement-on-possible-subsurface-lake-near-martian-south-pole/\n",
      "/news/8356/jpls-martians-are-coming-to-griffith-observatory/\n",
      "/news/8355/nasas-maven-spacecraft-finds-that-stolen-electrons-enable-unusual-aurora-on-mars/\n",
      "/news/8354/storm-chasers-on-mars-searching-for-dusty-secrets/\n",
      "/news/8353/nasa-mars-mission-adds-southern-california-dates/\n",
      "/news/8351/curiosity-captures-photos-of-thickening-dust/\n",
      "/news/8350/nasa-encounters-the-perfect-storm-for-science/\n",
      "/news/8349/media-telecon-about-mars-dust-storm-opportunity/\n",
      "/news/8347/nasa-finds-ancient-organic-material-mysterious-methane-on-mars/\n",
      "/news/8346/nasa-to-host-live-discussion-on-new-mars-science-results/\n",
      "/news/8345/mars-curiositys-labs-are-back-in-action/\n",
      "/news/8344/nasa-cubesats-steer-toward-mars/\n",
      "/news/8343/scientists-shrink-chemistry-lab-to-seek-evidence-of-life-on-mars/\n",
      "/news/8342/insight-steers-toward-mars/\n",
      "/news/8341/drilling-success-curiosity-is-collecting-mars-rocks/\n",
      "/news/8339/nasas-curiosity-rover-aims-to-get-its-rhythm-back/\n",
      "/news/8338/a-pale-blue-dot-as-seen-by-a-cubesat/\n",
      "/news/8335/mars-helicopter-to-fly-on-nasas-next-red-planet-rover-mission/\n",
      "/news/8334/nasas-first-deep-space-cubesats-say-polo/\n",
      "/news/8333/nasa-ula-launch-mission-to-study-how-mars-was-made/\n",
      "/news/8332/nasas-first-mission-to-study-the-interior-of-mars-awaits-may-5-launch/\n",
      "/news/8331/vice-president-pence-visits-jpl-previews-nasas-next-mars-mission-launch/\n",
      "/news/8330/nasa-sets-sights-on-may-5-launch-of-insight-to-mars/\n",
      "/news/8329/results-of-heat-shield-testing/\n"
     ]
    }
   ],
   "source": [
    "# to get news headlines from one page\n",
    "for article in articles:\n",
    "    a = article.find(\"a\")\n",
    "    title = a[\"href\"]\n",
    "    print(title)"
   ]
  },
  {
   "cell_type": "code",
   "execution_count": 84,
   "metadata": {},
   "outputs": [
    {
     "data": {
      "text/plain": [
       "<div class=\"article_teaser_body\">One month since increasing their commanding frequency, engineers have yet to hear from NASA's Opportunity rover.</div>"
      ]
     },
     "execution_count": 84,
     "metadata": {},
     "output_type": "execute_result"
    }
   ],
   "source": [
    "news_p = soup.find_all('div', class_='article_teaser_body')\n",
    "news_p[0]"
   ]
  },
  {
   "cell_type": "code",
   "execution_count": 85,
   "metadata": {},
   "outputs": [
    {
     "name": "stdout",
     "output_type": "stream",
     "text": [
      "<div class=\"article_teaser_body\">One month since increasing their commanding frequency, engineers have yet to hear from NASA's Opportunity rover.</div>\n",
      "<div class=\"article_teaser_body\">A mixed-reality software that allows scientists and engineers to virtually walk on Mars has received NASA's 2018 Software of the Year Award.</div>\n",
      "<div class=\"article_teaser_body\">What does NASA do to get a rover ready for Mars? JPL's paint shop does a thousand different paint jobs a year. And while every piece of spacecraft that comes through the shop is important, one headed for the Red Planet adds a little extra oomph.</div>\n",
      "<div class=\"article_teaser_body\">NASA engineers are switching over to Curiosity's spare computer to diagnose a technical issue.</div>\n",
      "<div class=\"article_teaser_body\">NASA still hasn't heard from the Opportunity rover, but at least the agency can see it again.</div>\n",
      "<div class=\"article_teaser_body\">NASA has a class assignment for corporations, nonprofits and educational organizations involved in science and space exploration: partner with the agency to inspire future engineers and scientists by sponsoring a contest to name the next rover to venture to the Red Planet.</div>\n",
      "<div class=\"article_teaser_body\">NASA’s MAVEN spacecraft celebrates four years in Mars orbit with a selfie.</div>\n",
      "<div class=\"article_teaser_body\">A pair of NASA CubeSats flying to Mars are opening a new frontier for small spacecraft.</div>\n",
      "<div class=\"article_teaser_body\">NASA's Curiosity rover surveyed its surroundings on Mars, producing a 360-degree panorama of its current location on Vera Rubin Ridge.</div>\n",
      "<div class=\"article_teaser_body\">The mission's heat probe could reveal how the planet's towering volcanoes formed.</div>\n",
      "<div class=\"article_teaser_body\">Up to 30 multimedia participants will be selected for a special two-day event at JPL culminating in the InSight spacecraft's landing on Mars. Apply by Sept. 3.</div>\n",
      "<div class=\"article_teaser_body\">NASA's InSight spacecraft, en route to a Nov. 26 landing on Mars, passed the halfway mark on Aug. 6. All of its instruments have been tested and are working well.</div>\n",
      "<div class=\"article_teaser_body\">The global dust storm on Mars could soon let in enough sunlight for the Opportunity rover to recharge.</div>\n",
      "<div class=\"article_teaser_body\">A series of NASA videos highlight scientists and engineers leading the next mission to Mars.</div>\n",
      "<div class=\"article_teaser_body\">Transforming the inhospitable Martian environment into a place astronauts could explore without life support is not possible without technology well beyond today’s capabilities.</div>\n",
      "<div class=\"article_teaser_body\">It's the beginning of the end for the planet-encircling dust storm on Mars. But it could still be weeks, or even months, before skies are clear enough for NASA's Opportunity rover to recharge its batteries and phone home. </div>\n",
      "<div class=\"article_teaser_body\">A new paper suggests that liquid water may be sitting under a layer of ice at Mars' south pole.</div>\n",
      "<div class=\"article_teaser_body\">On July 30, when Mars and Earth are closer than they've been since 2003, JPL scientists and engineers will be at a free public event at Griffith Observatory in Los Angeles.</div>\n",
      "<div class=\"article_teaser_body\">Auroras appear on Earth as ghostly displays of colorful light in the night sky, usually near the poles.</div>\n",
      "<div class=\"article_teaser_body\">Scientists with NASA's Mars orbiters have been waiting years for an event like the current Mars global dust storm.</div>\n",
      "<div class=\"article_teaser_body\">Looking for summer fun? Southern California families have their choice of the beach, movies, museums -- and even NASA's next mission to Mars.</div>\n",
      "<div class=\"article_teaser_body\">A storm of tiny dust particles has engulfed much of Mars over the last two weeks.</div>\n",
      "<div class=\"article_teaser_body\">One of the most intense Martian dust storms ever observed is being studied by a record number of NASA spacecraft.</div>\n",
      "<div class=\"article_teaser_body\">NASA will host a media telecon on Wednesday, June 13, about a massive Martian dust storm affecting the Opportunity rover, and how various missions can obtain unique science.</div>\n",
      "<div class=\"article_teaser_body\">NASA’s Curiosity rover has found evidence on Mars with implications for NASA’s search for life.</div>\n",
      "<div class=\"article_teaser_body\">Questions are welcome during a live discussion at 11 a.m. PDT (2 p.m. EDT) Thursday, June 7, on new science results from NASA's Mars Curiosity rover.</div>\n",
      "<div class=\"article_teaser_body\">NASA's Curiosity rover is analyzing drilled samples on Mars in one of its onboard labs for the first time in more than a year.</div>\n",
      "<div class=\"article_teaser_body\">NASA has achieved a first for the class of tiny spacecraft known as CubeSats, which are opening new access to space.</div>\n",
      "<div class=\"article_teaser_body\">An international team of scientists has created a tiny chemistry lab for a rover that will drill beneath the Martian surface looking for signs of past or present life.</div>\n",
      "<div class=\"article_teaser_body\">The spacecraft has completed its first trajectory correction maneuver.</div>\n",
      "<div class=\"article_teaser_body\">Engineers will now test delivering samples to instruments inside NASA's Curiosity Mars rover.</div>\n",
      "<div class=\"article_teaser_body\">Rover engineers at JPL will try to restore percussive drilling on Mars this week, part of a larger series of tests that will last through summer.</div>\n",
      "<div class=\"article_teaser_body\">One of NASA's MarCO CubeSats has taken its first image.</div>\n",
      "<div class=\"article_teaser_body\">NASA is adding a Mars helicopter to the agency’s next mission to the Red Planet, Mars 2020.</div>\n",
      "<div class=\"article_teaser_body\">MarCO is a pair of tiny spacecraft that launched with NASA's InSight lander today.</div>\n",
      "<div class=\"article_teaser_body\">NASA’s Mars InSight mission launched this morning on a 300-million-mile trip to Mars to study for the first time what lies deep beneath the surface of the Red Planet.</div>\n",
      "<div class=\"article_teaser_body\">All systems are go for NASA’s next launch to the Red Planet. </div>\n",
      "<div class=\"article_teaser_body\">A week before NASA's next Mars launch, Vice President Mike Pence toured the birthplace of the InSight Mars Lander and numerous other past, present and future space missions.</div>\n",
      "<div class=\"article_teaser_body\">NASA’s next mission to Mars, InSight, is scheduled to launch Saturday, May 5, on a first-ever mission to study the heart of the Red Planet.</div>\n",
      "<div class=\"article_teaser_body\">A post-test inspection of the composite structure for a heat shield to be used on the Mars 2020 mission revealed that a fracture occurred during structural testing.</div>\n"
     ]
    }
   ],
   "source": [
    "# to get article teasers from one page\n",
    "for para in news_p:\n",
    "    p = para.find(class_= \"article_teaser_body\")\n",
    "    print(para)"
   ]
  },
  {
   "cell_type": "code",
   "execution_count": 90,
   "metadata": {},
   "outputs": [],
   "source": [
    "# use splinter to grab image urls\n",
    "executable_path = {'executable_path': 'chromedriver'}\n",
    "browser = Browser('chrome', **executable_path, headless=False)\n",
    "image_url = \"https://www.jpl.nasa.gov/spaceimages/?search=&category=Mars\"\n",
    "browser.visit(image_url)\n",
    "browser.click_link_by_partial_text('FULL IMAGE')"
   ]
  },
  {
   "cell_type": "code",
   "execution_count": 91,
   "metadata": {},
   "outputs": [],
   "source": [
    "# wait 5 seconds to search for url\n",
    "time.sleep(5)\n",
    "html = browser.html\n",
    "soup = BeautifulSoup(html, 'html.parser')\n",
    "featured_image_url = soup.find_all('img', class_ = 'fancybox-image')"
   ]
  },
  {
   "cell_type": "code",
   "execution_count": 92,
   "metadata": {},
   "outputs": [],
   "source": [
    "featured_image_url = \"https://www.jpl.nasa.gov\" + featured_image_url[0][\"src\"]"
   ]
  },
  {
   "cell_type": "code",
   "execution_count": 93,
   "metadata": {},
   "outputs": [
    {
     "data": {
      "text/plain": [
       "'https://www.jpl.nasa.gov/spaceimages/images/mediumsize/PIA17794_ip.jpg'"
      ]
     },
     "execution_count": 93,
     "metadata": {},
     "output_type": "execute_result"
    }
   ],
   "source": [
    "featured_image_url "
   ]
  },
  {
   "cell_type": "code",
   "execution_count": 97,
   "metadata": {},
   "outputs": [],
   "source": [
    "executable_path = {'executable_path': 'chromedriver'}\n",
    "browser = Browser('chrome', **executable_path, headless=False)"
   ]
  },
  {
   "cell_type": "code",
   "execution_count": 98,
   "metadata": {},
   "outputs": [],
   "source": [
    "twitter_url = 'https://twitter.com/marswxreport?lang=en'\n",
    "browser.visit(twitter_url)"
   ]
  },
  {
   "cell_type": "code",
   "execution_count": 100,
   "metadata": {},
   "outputs": [],
   "source": [
    "html = browser.html\n",
    "soup = BeautifulSoup(html, 'html.parser')\n",
    "tweets = soup.find_all('div', class_ = 'js-tweet-text-container')"
   ]
  },
  {
   "cell_type": "code",
   "execution_count": 101,
   "metadata": {},
   "outputs": [],
   "source": [
    "# to extract latest tweet\n",
    "for tweet in tweets:\n",
    "    mars_weather = tweet.p.text\n",
    "    break"
   ]
  },
  {
   "cell_type": "code",
   "execution_count": 102,
   "metadata": {},
   "outputs": [
    {
     "data": {
      "text/plain": [
       "'And finally - a stack of all the images - you can see so much detail here https://dougellison.smugmug.com/Machines/Space-X-SAOCOM-1A/i-zbJzq8L\\xa0…pic.twitter.com/9nLwAH3oZQ'"
      ]
     },
     "execution_count": 102,
     "metadata": {},
     "output_type": "execute_result"
    }
   ],
   "source": [
    "mars_weather"
   ]
  },
  {
   "cell_type": "code",
   "execution_count": 103,
   "metadata": {},
   "outputs": [],
   "source": [
    "for tweet in tweets:\n",
    "    if \"Sol\" in tweet.text:\n",
    "        latest_mars_weather = tweet.p.text\n",
    "        break"
   ]
  },
  {
   "cell_type": "code",
   "execution_count": 104,
   "metadata": {},
   "outputs": [
    {
     "data": {
      "text/plain": [
       "'Sol 2171 (2018-09-14), high -12C/10F, low -65C/-84F, pressure at 8.79 hPa, daylight 05:43-17:59'"
      ]
     },
     "execution_count": 104,
     "metadata": {},
     "output_type": "execute_result"
    }
   ],
   "source": [
    "latest_mars_weather"
   ]
  },
  {
   "cell_type": "code",
   "execution_count": 105,
   "metadata": {},
   "outputs": [],
   "source": [
    "space_facts_url = 'https://space-facts.com/mars/'\n",
    "mars_facts = pd.read_html(space_facts_url)"
   ]
  },
  {
   "cell_type": "code",
   "execution_count": 108,
   "metadata": {},
   "outputs": [
    {
     "data": {
      "text/html": [
       "<div>\n",
       "<style scoped>\n",
       "    .dataframe tbody tr th:only-of-type {\n",
       "        vertical-align: middle;\n",
       "    }\n",
       "\n",
       "    .dataframe tbody tr th {\n",
       "        vertical-align: top;\n",
       "    }\n",
       "\n",
       "    .dataframe thead th {\n",
       "        text-align: right;\n",
       "    }\n",
       "</style>\n",
       "<table border=\"1\" class=\"dataframe\">\n",
       "  <thead>\n",
       "    <tr style=\"text-align: right;\">\n",
       "      <th></th>\n",
       "      <th>0</th>\n",
       "      <th>1</th>\n",
       "    </tr>\n",
       "  </thead>\n",
       "  <tbody>\n",
       "    <tr>\n",
       "      <th>0</th>\n",
       "      <td>Equatorial Diameter:</td>\n",
       "      <td>6,792 km</td>\n",
       "    </tr>\n",
       "    <tr>\n",
       "      <th>1</th>\n",
       "      <td>Polar Diameter:</td>\n",
       "      <td>6,752 km</td>\n",
       "    </tr>\n",
       "    <tr>\n",
       "      <th>2</th>\n",
       "      <td>Mass:</td>\n",
       "      <td>6.42 x 10^23 kg (10.7% Earth)</td>\n",
       "    </tr>\n",
       "    <tr>\n",
       "      <th>3</th>\n",
       "      <td>Moons:</td>\n",
       "      <td>2 (Phobos &amp; Deimos)</td>\n",
       "    </tr>\n",
       "    <tr>\n",
       "      <th>4</th>\n",
       "      <td>Orbit Distance:</td>\n",
       "      <td>227,943,824 km (1.52 AU)</td>\n",
       "    </tr>\n",
       "    <tr>\n",
       "      <th>5</th>\n",
       "      <td>Orbit Period:</td>\n",
       "      <td>687 days (1.9 years)</td>\n",
       "    </tr>\n",
       "    <tr>\n",
       "      <th>6</th>\n",
       "      <td>Surface Temperature:</td>\n",
       "      <td>-153 to 20 °C</td>\n",
       "    </tr>\n",
       "    <tr>\n",
       "      <th>7</th>\n",
       "      <td>First Record:</td>\n",
       "      <td>2nd millennium BC</td>\n",
       "    </tr>\n",
       "    <tr>\n",
       "      <th>8</th>\n",
       "      <td>Recorded By:</td>\n",
       "      <td>Egyptian astronomers</td>\n",
       "    </tr>\n",
       "  </tbody>\n",
       "</table>\n",
       "</div>"
      ],
      "text/plain": [
       "                      0                              1\n",
       "0  Equatorial Diameter:                       6,792 km\n",
       "1       Polar Diameter:                       6,752 km\n",
       "2                 Mass:  6.42 x 10^23 kg (10.7% Earth)\n",
       "3                Moons:            2 (Phobos & Deimos)\n",
       "4       Orbit Distance:       227,943,824 km (1.52 AU)\n",
       "5         Orbit Period:           687 days (1.9 years)\n",
       "6  Surface Temperature:                  -153 to 20 °C\n",
       "7         First Record:              2nd millennium BC\n",
       "8          Recorded By:           Egyptian astronomers"
      ]
     },
     "execution_count": 108,
     "metadata": {},
     "output_type": "execute_result"
    }
   ],
   "source": [
    "mars_facts[0]"
   ]
  },
  {
   "cell_type": "code",
   "execution_count": 109,
   "metadata": {},
   "outputs": [],
   "source": [
    "mars_df = mars_facts[0]\n"
   ]
  },
  {
   "cell_type": "code",
   "execution_count": 111,
   "metadata": {},
   "outputs": [
    {
     "data": {
      "text/html": [
       "<div>\n",
       "<style scoped>\n",
       "    .dataframe tbody tr th:only-of-type {\n",
       "        vertical-align: middle;\n",
       "    }\n",
       "\n",
       "    .dataframe tbody tr th {\n",
       "        vertical-align: top;\n",
       "    }\n",
       "\n",
       "    .dataframe thead th {\n",
       "        text-align: right;\n",
       "    }\n",
       "</style>\n",
       "<table border=\"1\" class=\"dataframe\">\n",
       "  <thead>\n",
       "    <tr style=\"text-align: right;\">\n",
       "      <th></th>\n",
       "      <th>Characteristics</th>\n",
       "      <th>Data</th>\n",
       "    </tr>\n",
       "  </thead>\n",
       "  <tbody>\n",
       "    <tr>\n",
       "      <th>0</th>\n",
       "      <td>Equatorial Diameter:</td>\n",
       "      <td>6,792 km</td>\n",
       "    </tr>\n",
       "    <tr>\n",
       "      <th>1</th>\n",
       "      <td>Polar Diameter:</td>\n",
       "      <td>6,752 km</td>\n",
       "    </tr>\n",
       "    <tr>\n",
       "      <th>2</th>\n",
       "      <td>Mass:</td>\n",
       "      <td>6.42 x 10^23 kg (10.7% Earth)</td>\n",
       "    </tr>\n",
       "    <tr>\n",
       "      <th>3</th>\n",
       "      <td>Moons:</td>\n",
       "      <td>2 (Phobos &amp; Deimos)</td>\n",
       "    </tr>\n",
       "    <tr>\n",
       "      <th>4</th>\n",
       "      <td>Orbit Distance:</td>\n",
       "      <td>227,943,824 km (1.52 AU)</td>\n",
       "    </tr>\n",
       "    <tr>\n",
       "      <th>5</th>\n",
       "      <td>Orbit Period:</td>\n",
       "      <td>687 days (1.9 years)</td>\n",
       "    </tr>\n",
       "    <tr>\n",
       "      <th>6</th>\n",
       "      <td>Surface Temperature:</td>\n",
       "      <td>-153 to 20 °C</td>\n",
       "    </tr>\n",
       "    <tr>\n",
       "      <th>7</th>\n",
       "      <td>First Record:</td>\n",
       "      <td>2nd millennium BC</td>\n",
       "    </tr>\n",
       "    <tr>\n",
       "      <th>8</th>\n",
       "      <td>Recorded By:</td>\n",
       "      <td>Egyptian astronomers</td>\n",
       "    </tr>\n",
       "  </tbody>\n",
       "</table>\n",
       "</div>"
      ],
      "text/plain": [
       "        Characteristics                           Data\n",
       "0  Equatorial Diameter:                       6,792 km\n",
       "1       Polar Diameter:                       6,752 km\n",
       "2                 Mass:  6.42 x 10^23 kg (10.7% Earth)\n",
       "3                Moons:            2 (Phobos & Deimos)\n",
       "4       Orbit Distance:       227,943,824 km (1.52 AU)\n",
       "5         Orbit Period:           687 days (1.9 years)\n",
       "6  Surface Temperature:                  -153 to 20 °C\n",
       "7         First Record:              2nd millennium BC\n",
       "8          Recorded By:           Egyptian astronomers"
      ]
     },
     "execution_count": 111,
     "metadata": {},
     "output_type": "execute_result"
    }
   ],
   "source": [
    "mars_df.columns = ['Characteristics', 'Data']\n",
    "mars_df"
   ]
  },
  {
   "cell_type": "code",
   "execution_count": 112,
   "metadata": {},
   "outputs": [
    {
     "data": {
      "text/html": [
       "<div>\n",
       "<style scoped>\n",
       "    .dataframe tbody tr th:only-of-type {\n",
       "        vertical-align: middle;\n",
       "    }\n",
       "\n",
       "    .dataframe tbody tr th {\n",
       "        vertical-align: top;\n",
       "    }\n",
       "\n",
       "    .dataframe thead th {\n",
       "        text-align: right;\n",
       "    }\n",
       "</style>\n",
       "<table border=\"1\" class=\"dataframe\">\n",
       "  <thead>\n",
       "    <tr style=\"text-align: right;\">\n",
       "      <th></th>\n",
       "      <th>Data</th>\n",
       "    </tr>\n",
       "    <tr>\n",
       "      <th>Characteristics</th>\n",
       "      <th></th>\n",
       "    </tr>\n",
       "  </thead>\n",
       "  <tbody>\n",
       "    <tr>\n",
       "      <th>Equatorial Diameter:</th>\n",
       "      <td>6,792 km</td>\n",
       "    </tr>\n",
       "    <tr>\n",
       "      <th>Polar Diameter:</th>\n",
       "      <td>6,752 km</td>\n",
       "    </tr>\n",
       "    <tr>\n",
       "      <th>Mass:</th>\n",
       "      <td>6.42 x 10^23 kg (10.7% Earth)</td>\n",
       "    </tr>\n",
       "    <tr>\n",
       "      <th>Moons:</th>\n",
       "      <td>2 (Phobos &amp; Deimos)</td>\n",
       "    </tr>\n",
       "    <tr>\n",
       "      <th>Orbit Distance:</th>\n",
       "      <td>227,943,824 km (1.52 AU)</td>\n",
       "    </tr>\n",
       "    <tr>\n",
       "      <th>Orbit Period:</th>\n",
       "      <td>687 days (1.9 years)</td>\n",
       "    </tr>\n",
       "    <tr>\n",
       "      <th>Surface Temperature:</th>\n",
       "      <td>-153 to 20 °C</td>\n",
       "    </tr>\n",
       "    <tr>\n",
       "      <th>First Record:</th>\n",
       "      <td>2nd millennium BC</td>\n",
       "    </tr>\n",
       "    <tr>\n",
       "      <th>Recorded By:</th>\n",
       "      <td>Egyptian astronomers</td>\n",
       "    </tr>\n",
       "  </tbody>\n",
       "</table>\n",
       "</div>"
      ],
      "text/plain": [
       "                                               Data\n",
       "Characteristics                                    \n",
       "Equatorial Diameter:                       6,792 km\n",
       "Polar Diameter:                            6,752 km\n",
       "Mass:                 6.42 x 10^23 kg (10.7% Earth)\n",
       "Moons:                          2 (Phobos & Deimos)\n",
       "Orbit Distance:            227,943,824 km (1.52 AU)\n",
       "Orbit Period:                  687 days (1.9 years)\n",
       "Surface Temperature:                  -153 to 20 °C\n",
       "First Record:                     2nd millennium BC\n",
       "Recorded By:                   Egyptian astronomers"
      ]
     },
     "execution_count": 112,
     "metadata": {},
     "output_type": "execute_result"
    }
   ],
   "source": [
    "mars_df.set_index(\"Characteristics\", inplace=True)\n",
    "mars_df"
   ]
  },
  {
   "cell_type": "code",
   "execution_count": 114,
   "metadata": {},
   "outputs": [],
   "source": [
    "executable_path = {'executable_path': 'chromedriver'}\n",
    "browser = Browser('chrome', **executable_path, headless=False)"
   ]
  },
  {
   "cell_type": "code",
   "execution_count": 124,
   "metadata": {},
   "outputs": [],
   "source": [
    "# Mars Hemispheres' images urls\n",
    "\n",
    "geology_url = \"https://astrogeology.usgs.gov/search/results?q=hemisphere+enhanced&k1=target&v1=Mars\"\n",
    "geology_base_url = 'https://astrogeology.usgs.gov'\n",
    "browser.visit(geology_url)"
   ]
  },
  {
   "cell_type": "code",
   "execution_count": 125,
   "metadata": {},
   "outputs": [],
   "source": [
    "html = browser.html\n",
    "soup = BeautifulSoup(html, 'html.parser')"
   ]
  },
  {
   "cell_type": "code",
   "execution_count": 126,
   "metadata": {},
   "outputs": [],
   "source": [
    "items = soup.find_all('a', class_ = 'itemLink product-item')"
   ]
  },
  {
   "cell_type": "code",
   "execution_count": 127,
   "metadata": {},
   "outputs": [
    {
     "data": {
      "text/plain": [
       "[<a class=\"itemLink product-item\" href=\"/search/map/Mars/Viking/cerberus_enhanced\"><img alt=\"Cerberus Hemisphere Enhanced thumbnail\" class=\"thumb\" src=\"/cache/images/dfaf3849e74bf973b59eb50dab52b583_cerberus_enhanced.tif_thumb.png\"/></a>,\n",
       " <a class=\"itemLink product-item\" href=\"/search/map/Mars/Viking/cerberus_enhanced\"><h3>Cerberus Hemisphere Enhanced</h3></a>,\n",
       " <a class=\"itemLink product-item\" href=\"/search/map/Mars/Viking/schiaparelli_enhanced\"><img alt=\"Schiaparelli Hemisphere Enhanced thumbnail\" class=\"thumb\" src=\"/cache/images/7677c0a006b83871b5a2f66985ab5857_schiaparelli_enhanced.tif_thumb.png\"/></a>,\n",
       " <a class=\"itemLink product-item\" href=\"/search/map/Mars/Viking/schiaparelli_enhanced\"><h3>Schiaparelli Hemisphere Enhanced</h3></a>,\n",
       " <a class=\"itemLink product-item\" href=\"/search/map/Mars/Viking/syrtis_major_enhanced\"><img alt=\"Syrtis Major Hemisphere Enhanced thumbnail\" class=\"thumb\" src=\"/cache/images/aae41197e40d6d4f3ea557f8cfe51d15_syrtis_major_enhanced.tif_thumb.png\"/></a>,\n",
       " <a class=\"itemLink product-item\" href=\"/search/map/Mars/Viking/syrtis_major_enhanced\"><h3>Syrtis Major Hemisphere Enhanced</h3></a>,\n",
       " <a class=\"itemLink product-item\" href=\"/search/map/Mars/Viking/valles_marineris_enhanced\"><img alt=\"Valles Marineris Hemisphere Enhanced thumbnail\" class=\"thumb\" src=\"/cache/images/04085d99ec3713883a9a57f42be9c725_valles_marineris_enhanced.tif_thumb.png\"/></a>,\n",
       " <a class=\"itemLink product-item\" href=\"/search/map/Mars/Viking/valles_marineris_enhanced\"><h3>Valles Marineris Hemisphere Enhanced</h3></a>]"
      ]
     },
     "execution_count": 127,
     "metadata": {},
     "output_type": "execute_result"
    }
   ],
   "source": [
    "items"
   ]
  },
  {
   "cell_type": "code",
   "execution_count": 128,
   "metadata": {},
   "outputs": [
    {
     "data": {
      "text/plain": [
       "[<div class=\"description\"><a class=\"itemLink product-item\" href=\"/search/map/Mars/Viking/cerberus_enhanced\"><h3>Cerberus Hemisphere Enhanced</h3></a><span class=\"subtitle\" style=\"float:left\">image/tiff 21 MB</span><span class=\"pubDate\" style=\"float:right\"></span><br/><p>Mosaic of the Cerberus hemisphere of Mars projected into point perspective, a view similar to that which one would see from a spacecraft. This mosaic is composed of 104 Viking Orbiter images acquired…</p></div>,\n",
       " <div class=\"description\"><a class=\"itemLink product-item\" href=\"/search/map/Mars/Viking/schiaparelli_enhanced\"><h3>Schiaparelli Hemisphere Enhanced</h3></a><span class=\"subtitle\" style=\"float:left\">image/tiff 35 MB</span><span class=\"pubDate\" style=\"float:right\"></span><br/><p>Mosaic of the Schiaparelli hemisphere of Mars projected into point perspective, a view similar to that which one would see from a spacecraft. The images were acquired in 1980 during early northern…</p></div>,\n",
       " <div class=\"description\"><a class=\"itemLink product-item\" href=\"/search/map/Mars/Viking/syrtis_major_enhanced\"><h3>Syrtis Major Hemisphere Enhanced</h3></a><span class=\"subtitle\" style=\"float:left\">image/tiff 25 MB</span><span class=\"pubDate\" style=\"float:right\"></span><br/><p>Mosaic of the Syrtis Major hemisphere of Mars projected into point perspective, a view similar to that which one would see from a spacecraft. This mosaic is composed of about 100 red and violet…</p></div>,\n",
       " <div class=\"description\"><a class=\"itemLink product-item\" href=\"/search/map/Mars/Viking/valles_marineris_enhanced\"><h3>Valles Marineris Hemisphere Enhanced</h3></a><span class=\"subtitle\" style=\"float:left\">image/tiff 27 MB</span><span class=\"pubDate\" style=\"float:right\"></span><br/><p>Mosaic of the Valles Marineris hemisphere of Mars projected into point perspective, a view similar to that which one would see from a spacecraft. The distance is 2500 kilometers from the surface of…</p></div>]"
      ]
     },
     "execution_count": 128,
     "metadata": {},
     "output_type": "execute_result"
    }
   ],
   "source": [
    "mars_hemis_imgs = soup.find_all('div', class_='description')\n",
    "mars_hemis_imgs"
   ]
  },
  {
   "cell_type": "code",
   "execution_count": 129,
   "metadata": {},
   "outputs": [
    {
     "data": {
      "text/plain": [
       "[<h3>Cerberus Hemisphere Enhanced</h3>,\n",
       " <h3>Schiaparelli Hemisphere Enhanced</h3>,\n",
       " <h3>Syrtis Major Hemisphere Enhanced</h3>,\n",
       " <h3>Valles Marineris Hemisphere Enhanced</h3>]"
      ]
     },
     "execution_count": 129,
     "metadata": {},
     "output_type": "execute_result"
    }
   ],
   "source": [
    "items = soup.find_all(\"h3\")\n",
    "items"
   ]
  },
  {
   "cell_type": "code",
   "execution_count": 131,
   "metadata": {},
   "outputs": [],
   "source": [
    "mars_hemis_list = []\n",
    "for x in range(len(mars_hemis_imgs)):\n",
    "    geology_url = mars_hemis_imgs[x].find('a').get('href')\n",
    "    mars_hemis_list.append(geology_base_url + geology_url)\n",
    "    "
   ]
  },
  {
   "cell_type": "code",
   "execution_count": 132,
   "metadata": {},
   "outputs": [
    {
     "data": {
      "text/plain": [
       "['https://astrogeology.usgs.gov/search/map/Mars/Viking/cerberus_enhanced',\n",
       " 'https://astrogeology.usgs.gov/search/map/Mars/Viking/schiaparelli_enhanced',\n",
       " 'https://astrogeology.usgs.gov/search/map/Mars/Viking/syrtis_major_enhanced',\n",
       " 'https://astrogeology.usgs.gov/search/map/Mars/Viking/valles_marineris_enhanced']"
      ]
     },
     "execution_count": 132,
     "metadata": {},
     "output_type": "execute_result"
    }
   ],
   "source": [
    "mars_hemis_list "
   ]
  },
  {
   "cell_type": "code",
   "execution_count": 133,
   "metadata": {},
   "outputs": [],
   "source": [
    "image_urls = []\n",
    "for hemi_url in mars_hemis_list:\n",
    "    browser.visit(hemi_url)\n",
    "    "
   ]
  },
  {
   "cell_type": "code",
   "execution_count": 135,
   "metadata": {},
   "outputs": [],
   "source": [
    "html = browser.html\n",
    "soup = BeautifulSoup(html, 'html.parser') \n",
    "for link in soup.find_all('div', class_='downloads'):\n",
    "    image_urls.append(link.find_all('a')[1].get('href'))"
   ]
  },
  {
   "cell_type": "code",
   "execution_count": 137,
   "metadata": {},
   "outputs": [
    {
     "name": "stdout",
     "output_type": "stream",
     "text": [
      "[{'item': '/news/8329/results-of-heat-shield-testing/', 'img_url': 'http://astropedia.astrogeology.usgs.gov/download/Mars/Viking/valles_marineris_enhanced.tif'}]\n"
     ]
    }
   ],
   "source": [
    "hemisphere_image_urls = []\n",
    "for item, img_url in zip(items, image_urls):\n",
    "    hemisphere_image_urls.append({'item': title,\n",
    "                                  'img_url': img_url})\n",
    "\n",
    "print(hemisphere_image_urls)"
   ]
  },
  {
   "cell_type": "code",
   "execution_count": null,
   "metadata": {},
   "outputs": [],
   "source": []
  }
 ],
 "metadata": {
  "kernelspec": {
   "display_name": "Python 3",
   "language": "python",
   "name": "python3"
  },
  "language_info": {
   "codemirror_mode": {
    "name": "ipython",
    "version": 3
   },
   "file_extension": ".py",
   "mimetype": "text/x-python",
   "name": "python",
   "nbconvert_exporter": "python",
   "pygments_lexer": "ipython3",
   "version": "3.6.5"
  }
 },
 "nbformat": 4,
 "nbformat_minor": 2
}
